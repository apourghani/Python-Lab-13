{
 "cells": [
  {
   "attachments": {},
   "cell_type": "markdown",
   "metadata": {},
   "source": [
    "# Introduction to Web Servers   \n",
    "### Problem 2.1"
   ]
  },
  {
   "cell_type": "code",
   "execution_count": 1,
   "metadata": {},
   "outputs": [],
   "source": [
    "# Create a dictionary with name and ID\n",
    "students = {\n",
    "  'Amirmahdi Soleimanifar': 98101747,\n",
    "  'Saba Nasiri': 98101052,\n",
    "  'Aliasghar Pourghani': 98101299,\n",
    "}"
   ]
  },
  {
   "cell_type": "code",
   "execution_count": 2,
   "metadata": {},
   "outputs": [
    {
     "data": {
      "text/plain": [
       "'{\"Amirmahdi Soleimanifar\": 98101747, \"Saba Nasiri\": 98101052, \"Aliasghar Pourghani\": 98101299}'"
      ]
     },
     "execution_count": 2,
     "metadata": {},
     "output_type": "execute_result"
    }
   ],
   "source": [
    "# Convert students to a JSON object\n",
    "import json\n",
    "\n",
    "json_students = json.dumps(students)\n",
    "json_students"
   ]
  },
  {
   "cell_type": "code",
   "execution_count": 3,
   "metadata": {},
   "outputs": [
    {
     "data": {
      "text/plain": [
       "{'Amirmahdi Soleimanifar': 98101747,\n",
       " 'Saba Nasiri': 98101052,\n",
       " 'Aliasghar Pourghani': 98101299}"
      ]
     },
     "execution_count": 3,
     "metadata": {},
     "output_type": "execute_result"
    }
   ],
   "source": [
    "# Convert json_students to a Python object\n",
    "python_students = json.loads(json_students)\n",
    "python_students"
   ]
  },
  {
   "cell_type": "code",
   "execution_count": 4,
   "metadata": {},
   "outputs": [
    {
     "name": "stdout",
     "output_type": "stream",
     "text": [
      "ID of student with name \"Amirmahdi Soleimanifar\" is: 98101747\n"
     ]
    }
   ],
   "source": [
    "print('ID of student with name \"Amirmahdi Soleimanifar\" is:', python_students['Amirmahdi Soleimanifar'])"
   ]
  },
  {
   "attachments": {},
   "cell_type": "markdown",
   "metadata": {},
   "source": [
    "### Problem 2.2"
   ]
  },
  {
   "cell_type": "code",
   "execution_count": 5,
   "metadata": {},
   "outputs": [],
   "source": [
    "# Created bin has the following properties\n",
    "# Bin '1675926789711-1449970379471'\n",
    "# curl -H 'X-Status: Awesome' https://www.toptal.com/developers/postbin/1675927851098-2440933708567\n",
    "# wget https://www.toptal.com/developers/postbin/1675927851098-2440933708567?hello=world\n",
    "# echo \"hello=world\" | POST https://www.toptal.com/developers/postbin/1675927851098-2440933708567"
   ]
  },
  {
   "attachments": {},
   "cell_type": "markdown",
   "metadata": {},
   "source": [
    "### Problem 2.3"
   ]
  },
  {
   "cell_type": "code",
   "execution_count": null,
   "metadata": {},
   "outputs": [],
   "source": [
    "# Use requests library to POST data to the bin and show the status code\n",
    "import requests\n",
    "\n",
    "url = 'https://www.toptal.com/developers/postbin/1675927851098-2440933708567'\n",
    "data = json_students\n",
    "headers = {'X-Status': 'Awesome'} # No necessity. Just because it was on the example\n",
    "\n",
    "# Set proxy server for requests\n",
    "# COMMENT THE FOLLOWING CODE AND REMOVE 'proxies=proxies' FROM THE REQUESTS IN CASE YOU ARE NOT USING PROXY\n",
    "proxies = {\n",
    "  'http': 'http://127.0.0.1:7890',\n",
    "  'https': 'https://127.0.0.1:7890'\n",
    "}\n",
    "\n",
    "\n",
    "response = requests.post(url, data=data, headers=headers, proxies=proxies)\n",
    "print('Status code:', response.status_code)"
   ]
  },
  {
   "attachments": {},
   "cell_type": "markdown",
   "metadata": {},
   "source": [
    "The Status code received will be 200 and Status message is `OK` in case of successful request. Other responses indicate different types of problems based on their status code and status message."
   ]
  },
  {
   "cell_type": "code",
   "execution_count": 8,
   "metadata": {},
   "outputs": [
    {
     "data": {
      "text/plain": [
       "'{\"Amirmahdi Soleimanifar\": 98101747, \"Saba Nasiri\": 98101052, \"Aliasghar Pourghani\": 98101299}'"
      ]
     },
     "execution_count": 8,
     "metadata": {},
     "output_type": "execute_result"
    }
   ],
   "source": [
    "# Use get method to receive data\n",
    "response = requests.get(url, proxies=proxies)\n",
    "\n",
    "# Print the response\n",
    "json.loads(response.text)"
   ]
  }
 ],
 "metadata": {
  "kernelspec": {
   "display_name": "Python 3",
   "language": "python",
   "name": "python3"
  },
  "language_info": {
   "codemirror_mode": {
    "name": "ipython",
    "version": 3
   },
   "file_extension": ".py",
   "mimetype": "text/x-python",
   "name": "python",
   "nbconvert_exporter": "python",
   "pygments_lexer": "ipython3",
   "version": "3.8.0"
  },
  "orig_nbformat": 4,
  "vscode": {
   "interpreter": {
    "hash": "ce1b09b10ddf3c0c2840855cfede39e38bc763229e16b97ef7234a53f605a92b"
   }
  }
 },
 "nbformat": 4,
 "nbformat_minor": 2
}
