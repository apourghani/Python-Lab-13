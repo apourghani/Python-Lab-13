{
 "cells": [
  {
   "cell_type": "markdown",
   "id": "cc2caded",
   "metadata": {},
   "source": [
    "# Introduction to Network programming"
   ]
  },
  {
   "cell_type": "markdown",
   "id": "030d8ac5",
   "metadata": {},
   "source": [
    "## Part A"
   ]
  },
  {
   "cell_type": "markdown",
   "id": "caa34b69",
   "metadata": {},
   "source": [
    "### client"
   ]
  },
  {
   "cell_type": "code",
   "execution_count": 6,
   "id": "bbfe011e",
   "metadata": {},
   "outputs": [
    {
     "name": "stdout",
     "output_type": "stream",
     "text": [
      "Welcome and Thank you for connecting\n"
     ]
    }
   ],
   "source": [
    "import socket            \n",
    " \n",
    "s = socket.socket()         \n",
    "port = 12348              \n",
    "s.connect(('127.0.0.1', port))\n",
    "print (s.recv(1024).decode())\n",
    "s.close()    "
   ]
  },
  {
   "cell_type": "markdown",
   "id": "432b5724",
   "metadata": {},
   "source": [
    "## Part B"
   ]
  },
  {
   "cell_type": "markdown",
   "id": "1bfc0495",
   "metadata": {},
   "source": [
    "### client"
   ]
  },
  {
   "cell_type": "code",
   "execution_count": 11,
   "id": "6964b88c",
   "metadata": {},
   "outputs": [
    {
     "name": "stdout",
     "output_type": "stream",
     "text": [
      "file received.\n",
      "new file's been created, and data's been written \n"
     ]
    }
   ],
   "source": [
    "import socket\n",
    " \n",
    "PORT = 12348\n",
    "FORMAT = \"utf-8\"\n",
    "SIZE = 1024\n",
    "\n",
    "client = socket.socket(socket.AF_INET, socket.SOCK_STREAM)\n",
    "client.connect(('127.0.0.1', port))\n",
    "file = open(\"clientdata.txt\", \"w\")\n",
    "data = client.recv(SIZE).decode(FORMAT)\n",
    "print(f\"file received.\")\n",
    "file.write(data)\n",
    "print(\"new file's been created, and data's been written \")\n",
    "file.close()\n",
    "client.close()\n"
   ]
  },
  {
   "cell_type": "markdown",
   "id": "dc9ca3cd",
   "metadata": {},
   "source": [
    "## Part C"
   ]
  },
  {
   "cell_type": "markdown",
   "id": "72a99028",
   "metadata": {},
   "source": [
    "### client"
   ]
  },
  {
   "cell_type": "code",
   "execution_count": 37,
   "id": "3334a507",
   "metadata": {},
   "outputs": [
    {
     "name": "stdout",
     "output_type": "stream",
     "text": [
      "client4, file data4.txt : file doesnt exist.\n",
      "client2, file data3.txt : file doesnt exist.\n",
      "client1, file data2.txt : received.\n",
      "client3, file data1.txt : received.\n",
      "client0, file data1.txt : received.\n"
     ]
    }
   ],
   "source": [
    "import socket     \n",
    "import _thread \n",
    "from _thread import start_new_thread \n",
    "def clienthread(name,i):\n",
    "    FORMAT = \"utf-8\"\n",
    "    s = socket.socket()         \n",
    "    port = 12348              \n",
    "    s.connect(('127.0.0.1', port))\n",
    "    s.send(name.encode())\n",
    "    state = s.recv(1024).decode()\n",
    "    if state=='file exists.':\n",
    "        data = s.recv(1024).decode(FORMAT)\n",
    "        print(f\"client{i}, file {name} : received.\")\n",
    "    else:\n",
    "        print(f\"client{i}, file {name} : {state}\")\n",
    "    \n",
    "    s.close()    \n",
    "    \n",
    "    \n",
    "files={0:\"data1.txt\", 1:\"data2.txt\", 2:\"data3.txt\", 3:\"data1.txt\", 4:\"data4.txt\"}\n",
    "for i in range(5):\n",
    "    start_new_thread(clienthread, (files[i],i,))"
   ]
  },
  {
   "cell_type": "markdown",
   "id": "fcb85a12",
   "metadata": {},
   "source": [
    "## Bonus part"
   ]
  },
  {
   "cell_type": "markdown",
   "id": "0af0b50a",
   "metadata": {},
   "source": [
    "### client"
   ]
  },
  {
   "cell_type": "code",
   "execution_count": 66,
   "id": "bbfd0d50",
   "metadata": {},
   "outputs": [
    {
     "name": "stdout",
     "output_type": "stream",
     "text": [
      "client1, file data2.txt : received.\n",
      "client0, file data1.txt : received.\n",
      "client3, file data1.txt : received.\n",
      "client2, file data2.txt : received.\n",
      "client4, file data4.txt : file doesnt exist.\n"
     ]
    }
   ],
   "source": [
    "import socket, threading\n",
    "import os.path\n",
    "\n",
    "class ClientThread(threading.Thread):\n",
    "    def __init__(self,name, i):\n",
    "        threading.Thread.__init__(self)\n",
    "        self.name = name\n",
    "        self.i = i\n",
    "        \n",
    "    def run(self):\n",
    "        FORMAT = \"utf-8\"\n",
    "        s = socket.socket()         \n",
    "        port = 12348              \n",
    "        s.connect(('127.0.0.1', port))\n",
    "        s.send(self.name.encode())\n",
    "        state = s.recv(1024).decode()\n",
    "        if state=='file exists.':\n",
    "            data = s.recv(1024).decode(FORMAT)\n",
    "            print(f\"client{self.i}, file {self.name} : received.\")\n",
    "        else:\n",
    "            print(f\"client{i}, file {self.name} : {state}\")\n",
    "    \n",
    "        s.close()\n",
    "        \n",
    "files={0:\"data1.txt\", 1:\"data2.txt\", 2:\"data2.txt\", 3:\"data1.txt\", 4:\"data4.txt\"}\n",
    "for i in range(5): \n",
    "    newthread = ClientThread(files[i], i)\n",
    "    newthread.start()\n",
    "    "
   ]
  },
  {
   "cell_type": "code",
   "execution_count": null,
   "id": "c640b7d3",
   "metadata": {},
   "outputs": [],
   "source": []
  }
 ],
 "metadata": {
  "kernelspec": {
   "display_name": "Python 3 (ipykernel)",
   "language": "python",
   "name": "python3"
  },
  "language_info": {
   "codemirror_mode": {
    "name": "ipython",
    "version": 3
   },
   "file_extension": ".py",
   "mimetype": "text/x-python",
   "name": "python",
   "nbconvert_exporter": "python",
   "pygments_lexer": "ipython3",
   "version": "3.9.13"
  }
 },
 "nbformat": 4,
 "nbformat_minor": 5
}
