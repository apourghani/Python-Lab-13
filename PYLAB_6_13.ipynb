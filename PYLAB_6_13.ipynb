{
 "cells": [
  {
   "cell_type": "markdown",
   "id": "0da8ccb2",
   "metadata": {},
   "source": [
    "# PYTHON LAB 6\n",
    "## OOP, Pandas, Matplotlib,Numpy and SciPy\n",
    "### Amirmehdi Soleimanifar - \n",
    "### Aliasghar Pourghani - 98101299\n",
    "### Saba Nasiri - 98101052"
   ]
  },
  {
   "cell_type": "markdown",
   "id": "9efa3d71",
   "metadata": {},
   "source": [
    "### Object Oriented Programming:"
   ]
  },
  {
   "cell_type": "code",
   "execution_count": 44,
   "id": "353b0553",
   "metadata": {},
   "outputs": [],
   "source": [
    "class Set(list):\n",
    "    \n",
    "    def __init__(self):\n",
    "        self.my_set = list()\n",
    "        \n",
    "        \n",
    "    def add(self,x):\n",
    "        print(type(self.my_set))\n",
    "        flag = True\n",
    "        for i in self.my_set:\n",
    "            if i == x:\n",
    "                flag = False\n",
    "        if flag:\n",
    "            self.my_set = self.my_set.append(x)\n",
    "        return self.my_set\n",
    "    \n",
    "    \n",
    "    \n",
    "    def delete(self,x):\n",
    "        self.my_set.remove(x)\n",
    "        "
   ]
  },
  {
   "cell_type": "code",
   "execution_count": 45,
   "id": "a4b57594",
   "metadata": {},
   "outputs": [
    {
     "name": "stdout",
     "output_type": "stream",
     "text": [
      "[]\n",
      "<class '__main__.Set'>\n",
      "<class 'list'>\n",
      "None\n"
     ]
    }
   ],
   "source": [
    "ms = Set()\n",
    "print(ms)\n",
    "print(type(ms))\n",
    "print(ms.add('1'))\n"
   ]
  },
  {
   "cell_type": "markdown",
   "id": "896fb11b",
   "metadata": {},
   "source": [
    "### Pandas:"
   ]
  },
  {
   "cell_type": "code",
   "execution_count": 450,
   "id": "f6f60ad2",
   "metadata": {},
   "outputs": [],
   "source": [
    "import pandas as pd\n",
    "import numpy as np"
   ]
  },
  {
   "cell_type": "code",
   "execution_count": 451,
   "id": "ffff9db3",
   "metadata": {},
   "outputs": [
    {
     "name": "stdout",
     "output_type": "stream",
     "text": [
      "   A  B  C  D\n",
      "1  0  0  3  1\n",
      "2  6  2  9  7\n",
      "3  1  9  7  9\n",
      "4  6  9  5  9\n",
      "5  9  9  8  7\n",
      "6  9  2  3  1\n"
     ]
    }
   ],
   "source": [
    "#Part 2.1\n",
    "indexes = range(1,7)\n",
    "columns = ['A','B','C','D']\n",
    "data = np.random.randint(size = (6,4), low=0, high=10)\n",
    "df = pd.DataFrame(data, columns =  columns, index = indexes)\n",
    "\n",
    "print(df)"
   ]
  },
  {
   "cell_type": "markdown",
   "id": "7363426e",
   "metadata": {},
   "source": [
    "### Part 2.2"
   ]
  },
  {
   "cell_type": "code",
   "execution_count": 452,
   "id": "7598edb5",
   "metadata": {},
   "outputs": [
    {
     "name": "stdout",
     "output_type": "stream",
     "text": [
      "Fisrt two rows of matrix:\n"
     ]
    },
    {
     "data": {
      "text/html": [
       "<div>\n",
       "<style scoped>\n",
       "    .dataframe tbody tr th:only-of-type {\n",
       "        vertical-align: middle;\n",
       "    }\n",
       "\n",
       "    .dataframe tbody tr th {\n",
       "        vertical-align: top;\n",
       "    }\n",
       "\n",
       "    .dataframe thead th {\n",
       "        text-align: right;\n",
       "    }\n",
       "</style>\n",
       "<table border=\"1\" class=\"dataframe\">\n",
       "  <thead>\n",
       "    <tr style=\"text-align: right;\">\n",
       "      <th></th>\n",
       "      <th>A</th>\n",
       "      <th>B</th>\n",
       "      <th>C</th>\n",
       "      <th>D</th>\n",
       "    </tr>\n",
       "  </thead>\n",
       "  <tbody>\n",
       "    <tr>\n",
       "      <th>1</th>\n",
       "      <td>0</td>\n",
       "      <td>0</td>\n",
       "      <td>3</td>\n",
       "      <td>1</td>\n",
       "    </tr>\n",
       "    <tr>\n",
       "      <th>2</th>\n",
       "      <td>6</td>\n",
       "      <td>2</td>\n",
       "      <td>9</td>\n",
       "      <td>7</td>\n",
       "    </tr>\n",
       "  </tbody>\n",
       "</table>\n",
       "</div>"
      ],
      "text/plain": [
       "   A  B  C  D\n",
       "1  0  0  3  1\n",
       "2  6  2  9  7"
      ]
     },
     "execution_count": 452,
     "metadata": {},
     "output_type": "execute_result"
    }
   ],
   "source": [
    "print('Fisrt two rows of matrix:')\n",
    "df.head(2)"
   ]
  },
  {
   "cell_type": "code",
   "execution_count": 453,
   "id": "22ca0ad8",
   "metadata": {},
   "outputs": [
    {
     "name": "stdout",
     "output_type": "stream",
     "text": [
      "Last two rows of matrix:\n"
     ]
    },
    {
     "data": {
      "text/html": [
       "<div>\n",
       "<style scoped>\n",
       "    .dataframe tbody tr th:only-of-type {\n",
       "        vertical-align: middle;\n",
       "    }\n",
       "\n",
       "    .dataframe tbody tr th {\n",
       "        vertical-align: top;\n",
       "    }\n",
       "\n",
       "    .dataframe thead th {\n",
       "        text-align: right;\n",
       "    }\n",
       "</style>\n",
       "<table border=\"1\" class=\"dataframe\">\n",
       "  <thead>\n",
       "    <tr style=\"text-align: right;\">\n",
       "      <th></th>\n",
       "      <th>A</th>\n",
       "      <th>B</th>\n",
       "      <th>C</th>\n",
       "      <th>D</th>\n",
       "    </tr>\n",
       "  </thead>\n",
       "  <tbody>\n",
       "    <tr>\n",
       "      <th>5</th>\n",
       "      <td>9</td>\n",
       "      <td>9</td>\n",
       "      <td>8</td>\n",
       "      <td>7</td>\n",
       "    </tr>\n",
       "    <tr>\n",
       "      <th>6</th>\n",
       "      <td>9</td>\n",
       "      <td>2</td>\n",
       "      <td>3</td>\n",
       "      <td>1</td>\n",
       "    </tr>\n",
       "  </tbody>\n",
       "</table>\n",
       "</div>"
      ],
      "text/plain": [
       "   A  B  C  D\n",
       "5  9  9  8  7\n",
       "6  9  2  3  1"
      ]
     },
     "execution_count": 453,
     "metadata": {},
     "output_type": "execute_result"
    }
   ],
   "source": [
    "print('Last two rows of matrix:')\n",
    "df.tail(2)"
   ]
  },
  {
   "cell_type": "markdown",
   "id": "8b65a8a1",
   "metadata": {},
   "source": [
    "### Part 2.3"
   ]
  },
  {
   "cell_type": "code",
   "execution_count": 454,
   "id": "25f13bea",
   "metadata": {},
   "outputs": [
    {
     "data": {
      "text/plain": [
       "array([[0, 0, 3, 1],\n",
       "       [6, 2, 9, 7],\n",
       "       [1, 9, 7, 9],\n",
       "       [6, 9, 5, 9],\n",
       "       [9, 9, 8, 7],\n",
       "       [9, 2, 3, 1]])"
      ]
     },
     "execution_count": 454,
     "metadata": {},
     "output_type": "execute_result"
    }
   ],
   "source": [
    "df.values"
   ]
  },
  {
   "cell_type": "code",
   "execution_count": 455,
   "id": "bafd38fb",
   "metadata": {},
   "outputs": [
    {
     "data": {
      "text/plain": [
       "Index(['A', 'B', 'C', 'D'], dtype='object')"
      ]
     },
     "execution_count": 455,
     "metadata": {},
     "output_type": "execute_result"
    }
   ],
   "source": [
    "df.columns"
   ]
  },
  {
   "cell_type": "code",
   "execution_count": 456,
   "id": "8fbeee49",
   "metadata": {},
   "outputs": [
    {
     "data": {
      "text/plain": [
       "RangeIndex(start=1, stop=7, step=1)"
      ]
     },
     "execution_count": 456,
     "metadata": {},
     "output_type": "execute_result"
    }
   ],
   "source": [
    "df.index"
   ]
  },
  {
   "cell_type": "code",
   "execution_count": 457,
   "id": "921b62ac",
   "metadata": {},
   "outputs": [
    {
     "data": {
      "text/html": [
       "<div>\n",
       "<style scoped>\n",
       "    .dataframe tbody tr th:only-of-type {\n",
       "        vertical-align: middle;\n",
       "    }\n",
       "\n",
       "    .dataframe tbody tr th {\n",
       "        vertical-align: top;\n",
       "    }\n",
       "\n",
       "    .dataframe thead th {\n",
       "        text-align: right;\n",
       "    }\n",
       "</style>\n",
       "<table border=\"1\" class=\"dataframe\">\n",
       "  <thead>\n",
       "    <tr style=\"text-align: right;\">\n",
       "      <th></th>\n",
       "      <th>A</th>\n",
       "      <th>B</th>\n",
       "      <th>C</th>\n",
       "      <th>D</th>\n",
       "    </tr>\n",
       "  </thead>\n",
       "  <tbody>\n",
       "    <tr>\n",
       "      <th>count</th>\n",
       "      <td>6.000000</td>\n",
       "      <td>6.000000</td>\n",
       "      <td>6.000000</td>\n",
       "      <td>6.000000</td>\n",
       "    </tr>\n",
       "    <tr>\n",
       "      <th>mean</th>\n",
       "      <td>5.166667</td>\n",
       "      <td>5.166667</td>\n",
       "      <td>5.833333</td>\n",
       "      <td>5.666667</td>\n",
       "    </tr>\n",
       "    <tr>\n",
       "      <th>std</th>\n",
       "      <td>3.868678</td>\n",
       "      <td>4.262237</td>\n",
       "      <td>2.562551</td>\n",
       "      <td>3.723797</td>\n",
       "    </tr>\n",
       "    <tr>\n",
       "      <th>min</th>\n",
       "      <td>0.000000</td>\n",
       "      <td>0.000000</td>\n",
       "      <td>3.000000</td>\n",
       "      <td>1.000000</td>\n",
       "    </tr>\n",
       "    <tr>\n",
       "      <th>25%</th>\n",
       "      <td>2.250000</td>\n",
       "      <td>2.000000</td>\n",
       "      <td>3.500000</td>\n",
       "      <td>2.500000</td>\n",
       "    </tr>\n",
       "    <tr>\n",
       "      <th>50%</th>\n",
       "      <td>6.000000</td>\n",
       "      <td>5.500000</td>\n",
       "      <td>6.000000</td>\n",
       "      <td>7.000000</td>\n",
       "    </tr>\n",
       "    <tr>\n",
       "      <th>75%</th>\n",
       "      <td>8.250000</td>\n",
       "      <td>9.000000</td>\n",
       "      <td>7.750000</td>\n",
       "      <td>8.500000</td>\n",
       "    </tr>\n",
       "    <tr>\n",
       "      <th>max</th>\n",
       "      <td>9.000000</td>\n",
       "      <td>9.000000</td>\n",
       "      <td>9.000000</td>\n",
       "      <td>9.000000</td>\n",
       "    </tr>\n",
       "  </tbody>\n",
       "</table>\n",
       "</div>"
      ],
      "text/plain": [
       "              A         B         C         D\n",
       "count  6.000000  6.000000  6.000000  6.000000\n",
       "mean   5.166667  5.166667  5.833333  5.666667\n",
       "std    3.868678  4.262237  2.562551  3.723797\n",
       "min    0.000000  0.000000  3.000000  1.000000\n",
       "25%    2.250000  2.000000  3.500000  2.500000\n",
       "50%    6.000000  5.500000  6.000000  7.000000\n",
       "75%    8.250000  9.000000  7.750000  8.500000\n",
       "max    9.000000  9.000000  9.000000  9.000000"
      ]
     },
     "execution_count": 457,
     "metadata": {},
     "output_type": "execute_result"
    }
   ],
   "source": [
    "df.describe()"
   ]
  },
  {
   "cell_type": "markdown",
   "id": "aed998b7",
   "metadata": {},
   "source": [
    "### Describe:"
   ]
  },
  {
   "cell_type": "markdown",
   "id": "44fde7f3",
   "metadata": {},
   "source": [
    "### part 2.3"
   ]
  },
  {
   "cell_type": "code",
   "execution_count": 458,
   "id": "657bfce5",
   "metadata": {},
   "outputs": [
    {
     "data": {
      "text/html": [
       "<div>\n",
       "<style scoped>\n",
       "    .dataframe tbody tr th:only-of-type {\n",
       "        vertical-align: middle;\n",
       "    }\n",
       "\n",
       "    .dataframe tbody tr th {\n",
       "        vertical-align: top;\n",
       "    }\n",
       "\n",
       "    .dataframe thead th {\n",
       "        text-align: right;\n",
       "    }\n",
       "</style>\n",
       "<table border=\"1\" class=\"dataframe\">\n",
       "  <thead>\n",
       "    <tr style=\"text-align: right;\">\n",
       "      <th></th>\n",
       "      <th>A</th>\n",
       "      <th>B</th>\n",
       "      <th>C</th>\n",
       "      <th>D</th>\n",
       "    </tr>\n",
       "  </thead>\n",
       "  <tbody>\n",
       "    <tr>\n",
       "      <th>1</th>\n",
       "      <td>0</td>\n",
       "      <td>0</td>\n",
       "      <td>3</td>\n",
       "      <td>1</td>\n",
       "    </tr>\n",
       "    <tr>\n",
       "      <th>2</th>\n",
       "      <td>6</td>\n",
       "      <td>2</td>\n",
       "      <td>9</td>\n",
       "      <td>7</td>\n",
       "    </tr>\n",
       "    <tr>\n",
       "      <th>6</th>\n",
       "      <td>9</td>\n",
       "      <td>2</td>\n",
       "      <td>3</td>\n",
       "      <td>1</td>\n",
       "    </tr>\n",
       "    <tr>\n",
       "      <th>3</th>\n",
       "      <td>1</td>\n",
       "      <td>9</td>\n",
       "      <td>7</td>\n",
       "      <td>9</td>\n",
       "    </tr>\n",
       "    <tr>\n",
       "      <th>4</th>\n",
       "      <td>6</td>\n",
       "      <td>9</td>\n",
       "      <td>5</td>\n",
       "      <td>9</td>\n",
       "    </tr>\n",
       "    <tr>\n",
       "      <th>5</th>\n",
       "      <td>9</td>\n",
       "      <td>9</td>\n",
       "      <td>8</td>\n",
       "      <td>7</td>\n",
       "    </tr>\n",
       "  </tbody>\n",
       "</table>\n",
       "</div>"
      ],
      "text/plain": [
       "   A  B  C  D\n",
       "1  0  0  3  1\n",
       "2  6  2  9  7\n",
       "6  9  2  3  1\n",
       "3  1  9  7  9\n",
       "4  6  9  5  9\n",
       "5  9  9  8  7"
      ]
     },
     "execution_count": 458,
     "metadata": {},
     "output_type": "execute_result"
    }
   ],
   "source": [
    "if df['B'][1] == df['B'][2] == df['B'][3] == df['B'][4] == df['B'][5] == df['B'][6]:\n",
    "    df = df.sort_values(by = ['C'], ascending = False)\n",
    "else:\n",
    "    df = df.sort_values(by = ['B'])\n",
    "df"
   ]
  },
  {
   "cell_type": "code",
   "execution_count": 459,
   "id": "7afebe91",
   "metadata": {},
   "outputs": [],
   "source": [
    "df = df.reset_index()\n",
    "del df['index']"
   ]
  },
  {
   "cell_type": "markdown",
   "id": "925ceac9",
   "metadata": {},
   "source": [
    "### part 2.4"
   ]
  },
  {
   "cell_type": "code",
   "execution_count": 460,
   "id": "b65526c0",
   "metadata": {},
   "outputs": [
    {
     "data": {
      "text/html": [
       "<div>\n",
       "<style scoped>\n",
       "    .dataframe tbody tr th:only-of-type {\n",
       "        vertical-align: middle;\n",
       "    }\n",
       "\n",
       "    .dataframe tbody tr th {\n",
       "        vertical-align: top;\n",
       "    }\n",
       "\n",
       "    .dataframe thead th {\n",
       "        text-align: right;\n",
       "    }\n",
       "</style>\n",
       "<table border=\"1\" class=\"dataframe\">\n",
       "  <thead>\n",
       "    <tr style=\"text-align: right;\">\n",
       "      <th></th>\n",
       "      <th>A</th>\n",
       "      <th>B</th>\n",
       "      <th>C</th>\n",
       "      <th>D</th>\n",
       "      <th>F</th>\n",
       "    </tr>\n",
       "  </thead>\n",
       "  <tbody>\n",
       "    <tr>\n",
       "      <th>0</th>\n",
       "      <td>0</td>\n",
       "      <td>0</td>\n",
       "      <td>3</td>\n",
       "      <td>1</td>\n",
       "      <td>0.0</td>\n",
       "    </tr>\n",
       "    <tr>\n",
       "      <th>1</th>\n",
       "      <td>6</td>\n",
       "      <td>2</td>\n",
       "      <td>9</td>\n",
       "      <td>7</td>\n",
       "      <td>1.0</td>\n",
       "    </tr>\n",
       "    <tr>\n",
       "      <th>2</th>\n",
       "      <td>9</td>\n",
       "      <td>2</td>\n",
       "      <td>3</td>\n",
       "      <td>1</td>\n",
       "      <td>2.0</td>\n",
       "    </tr>\n",
       "    <tr>\n",
       "      <th>3</th>\n",
       "      <td>1</td>\n",
       "      <td>9</td>\n",
       "      <td>7</td>\n",
       "      <td>9</td>\n",
       "      <td>3.0</td>\n",
       "    </tr>\n",
       "    <tr>\n",
       "      <th>4</th>\n",
       "      <td>6</td>\n",
       "      <td>9</td>\n",
       "      <td>5</td>\n",
       "      <td>9</td>\n",
       "      <td>4.0</td>\n",
       "    </tr>\n",
       "    <tr>\n",
       "      <th>5</th>\n",
       "      <td>9</td>\n",
       "      <td>9</td>\n",
       "      <td>8</td>\n",
       "      <td>7</td>\n",
       "      <td>5.0</td>\n",
       "    </tr>\n",
       "  </tbody>\n",
       "</table>\n",
       "</div>"
      ],
      "text/plain": [
       "   A  B  C  D    F\n",
       "0  0  0  3  1  0.0\n",
       "1  6  2  9  7  1.0\n",
       "2  9  2  3  1  2.0\n",
       "3  1  9  7  9  3.0\n",
       "4  6  9  5  9  4.0\n",
       "5  9  9  8  7  5.0"
      ]
     },
     "execution_count": 460,
     "metadata": {},
     "output_type": "execute_result"
    }
   ],
   "source": [
    "S = pd.Series(range(0,7),dtype = float);\n",
    "df['F'] = S \n",
    "df"
   ]
  },
  {
   "cell_type": "markdown",
   "id": "22eea345",
   "metadata": {},
   "source": [
    "### Part 2.5"
   ]
  },
  {
   "cell_type": "code",
   "execution_count": 461,
   "id": "0b9f386c",
   "metadata": {},
   "outputs": [],
   "source": [
    "df.at[(2,4), 'F'] = np.nan"
   ]
  },
  {
   "cell_type": "code",
   "execution_count": 462,
   "id": "4d020c9f",
   "metadata": {},
   "outputs": [
    {
     "data": {
      "text/html": [
       "<div>\n",
       "<style scoped>\n",
       "    .dataframe tbody tr th:only-of-type {\n",
       "        vertical-align: middle;\n",
       "    }\n",
       "\n",
       "    .dataframe tbody tr th {\n",
       "        vertical-align: top;\n",
       "    }\n",
       "\n",
       "    .dataframe thead th {\n",
       "        text-align: right;\n",
       "    }\n",
       "</style>\n",
       "<table border=\"1\" class=\"dataframe\">\n",
       "  <thead>\n",
       "    <tr style=\"text-align: right;\">\n",
       "      <th></th>\n",
       "      <th>A</th>\n",
       "      <th>B</th>\n",
       "      <th>C</th>\n",
       "      <th>D</th>\n",
       "      <th>F</th>\n",
       "    </tr>\n",
       "  </thead>\n",
       "  <tbody>\n",
       "    <tr>\n",
       "      <th>0</th>\n",
       "      <td>0</td>\n",
       "      <td>0</td>\n",
       "      <td>3</td>\n",
       "      <td>1</td>\n",
       "      <td>0.0</td>\n",
       "    </tr>\n",
       "    <tr>\n",
       "      <th>1</th>\n",
       "      <td>6</td>\n",
       "      <td>2</td>\n",
       "      <td>9</td>\n",
       "      <td>7</td>\n",
       "      <td>1.0</td>\n",
       "    </tr>\n",
       "    <tr>\n",
       "      <th>2</th>\n",
       "      <td>9</td>\n",
       "      <td>2</td>\n",
       "      <td>3</td>\n",
       "      <td>1</td>\n",
       "      <td>NaN</td>\n",
       "    </tr>\n",
       "    <tr>\n",
       "      <th>3</th>\n",
       "      <td>1</td>\n",
       "      <td>9</td>\n",
       "      <td>7</td>\n",
       "      <td>9</td>\n",
       "      <td>3.0</td>\n",
       "    </tr>\n",
       "    <tr>\n",
       "      <th>4</th>\n",
       "      <td>6</td>\n",
       "      <td>9</td>\n",
       "      <td>5</td>\n",
       "      <td>9</td>\n",
       "      <td>NaN</td>\n",
       "    </tr>\n",
       "    <tr>\n",
       "      <th>5</th>\n",
       "      <td>9</td>\n",
       "      <td>9</td>\n",
       "      <td>8</td>\n",
       "      <td>7</td>\n",
       "      <td>5.0</td>\n",
       "    </tr>\n",
       "  </tbody>\n",
       "</table>\n",
       "</div>"
      ],
      "text/plain": [
       "   A  B  C  D    F\n",
       "0  0  0  3  1  0.0\n",
       "1  6  2  9  7  1.0\n",
       "2  9  2  3  1  NaN\n",
       "3  1  9  7  9  3.0\n",
       "4  6  9  5  9  NaN\n",
       "5  9  9  8  7  5.0"
      ]
     },
     "execution_count": 462,
     "metadata": {},
     "output_type": "execute_result"
    }
   ],
   "source": [
    "df"
   ]
  },
  {
   "cell_type": "code",
   "execution_count": 463,
   "id": "784f24e4",
   "metadata": {},
   "outputs": [
    {
     "data": {
      "text/html": [
       "<div>\n",
       "<style scoped>\n",
       "    .dataframe tbody tr th:only-of-type {\n",
       "        vertical-align: middle;\n",
       "    }\n",
       "\n",
       "    .dataframe tbody tr th {\n",
       "        vertical-align: top;\n",
       "    }\n",
       "\n",
       "    .dataframe thead th {\n",
       "        text-align: right;\n",
       "    }\n",
       "</style>\n",
       "<table border=\"1\" class=\"dataframe\">\n",
       "  <thead>\n",
       "    <tr style=\"text-align: right;\">\n",
       "      <th></th>\n",
       "      <th>A</th>\n",
       "      <th>F</th>\n",
       "    </tr>\n",
       "  </thead>\n",
       "  <tbody>\n",
       "    <tr>\n",
       "      <th>0</th>\n",
       "      <td>0</td>\n",
       "      <td>0.0</td>\n",
       "    </tr>\n",
       "    <tr>\n",
       "      <th>1</th>\n",
       "      <td>6</td>\n",
       "      <td>1.0</td>\n",
       "    </tr>\n",
       "    <tr>\n",
       "      <th>2</th>\n",
       "      <td>9</td>\n",
       "      <td>NaN</td>\n",
       "    </tr>\n",
       "  </tbody>\n",
       "</table>\n",
       "</div>"
      ],
      "text/plain": [
       "   A    F\n",
       "0  0  0.0\n",
       "1  6  1.0\n",
       "2  9  NaN"
      ]
     },
     "execution_count": 463,
     "metadata": {},
     "output_type": "execute_result"
    }
   ],
   "source": [
    "df.loc[[0, 1, 2],['A','F']]"
   ]
  },
  {
   "cell_type": "markdown",
   "id": "08fe599b",
   "metadata": {},
   "source": [
    "### Part 2.6"
   ]
  },
  {
   "cell_type": "code",
   "execution_count": 464,
   "id": "9fc39751",
   "metadata": {},
   "outputs": [],
   "source": [
    "df1 = df.dropna()"
   ]
  },
  {
   "cell_type": "code",
   "execution_count": 465,
   "id": "bcd1f955",
   "metadata": {},
   "outputs": [
    {
     "data": {
      "text/html": [
       "<div>\n",
       "<style scoped>\n",
       "    .dataframe tbody tr th:only-of-type {\n",
       "        vertical-align: middle;\n",
       "    }\n",
       "\n",
       "    .dataframe tbody tr th {\n",
       "        vertical-align: top;\n",
       "    }\n",
       "\n",
       "    .dataframe thead th {\n",
       "        text-align: right;\n",
       "    }\n",
       "</style>\n",
       "<table border=\"1\" class=\"dataframe\">\n",
       "  <thead>\n",
       "    <tr style=\"text-align: right;\">\n",
       "      <th></th>\n",
       "      <th>A</th>\n",
       "      <th>B</th>\n",
       "      <th>C</th>\n",
       "      <th>D</th>\n",
       "      <th>F</th>\n",
       "    </tr>\n",
       "  </thead>\n",
       "  <tbody>\n",
       "    <tr>\n",
       "      <th>0</th>\n",
       "      <td>0</td>\n",
       "      <td>0</td>\n",
       "      <td>3</td>\n",
       "      <td>1</td>\n",
       "      <td>0.0</td>\n",
       "    </tr>\n",
       "    <tr>\n",
       "      <th>1</th>\n",
       "      <td>6</td>\n",
       "      <td>2</td>\n",
       "      <td>9</td>\n",
       "      <td>7</td>\n",
       "      <td>1.0</td>\n",
       "    </tr>\n",
       "    <tr>\n",
       "      <th>3</th>\n",
       "      <td>1</td>\n",
       "      <td>9</td>\n",
       "      <td>7</td>\n",
       "      <td>9</td>\n",
       "      <td>3.0</td>\n",
       "    </tr>\n",
       "    <tr>\n",
       "      <th>5</th>\n",
       "      <td>9</td>\n",
       "      <td>9</td>\n",
       "      <td>8</td>\n",
       "      <td>7</td>\n",
       "      <td>5.0</td>\n",
       "    </tr>\n",
       "  </tbody>\n",
       "</table>\n",
       "</div>"
      ],
      "text/plain": [
       "   A  B  C  D    F\n",
       "0  0  0  3  1  0.0\n",
       "1  6  2  9  7  1.0\n",
       "3  1  9  7  9  3.0\n",
       "5  9  9  8  7  5.0"
      ]
     },
     "execution_count": 465,
     "metadata": {},
     "output_type": "execute_result"
    }
   ],
   "source": [
    "df1"
   ]
  },
  {
   "cell_type": "markdown",
   "id": "8ca50bb3",
   "metadata": {},
   "source": [
    "### Part 2.7"
   ]
  },
  {
   "cell_type": "code",
   "execution_count": 466,
   "id": "f6bfec06",
   "metadata": {},
   "outputs": [],
   "source": [
    "df2 = df.fillna(df['F'].mean())"
   ]
  },
  {
   "cell_type": "code",
   "execution_count": 467,
   "id": "e65a84e7",
   "metadata": {},
   "outputs": [
    {
     "data": {
      "text/html": [
       "<div>\n",
       "<style scoped>\n",
       "    .dataframe tbody tr th:only-of-type {\n",
       "        vertical-align: middle;\n",
       "    }\n",
       "\n",
       "    .dataframe tbody tr th {\n",
       "        vertical-align: top;\n",
       "    }\n",
       "\n",
       "    .dataframe thead th {\n",
       "        text-align: right;\n",
       "    }\n",
       "</style>\n",
       "<table border=\"1\" class=\"dataframe\">\n",
       "  <thead>\n",
       "    <tr style=\"text-align: right;\">\n",
       "      <th></th>\n",
       "      <th>A</th>\n",
       "      <th>B</th>\n",
       "      <th>C</th>\n",
       "      <th>D</th>\n",
       "      <th>F</th>\n",
       "    </tr>\n",
       "  </thead>\n",
       "  <tbody>\n",
       "    <tr>\n",
       "      <th>0</th>\n",
       "      <td>0</td>\n",
       "      <td>0</td>\n",
       "      <td>3</td>\n",
       "      <td>1</td>\n",
       "      <td>0.00</td>\n",
       "    </tr>\n",
       "    <tr>\n",
       "      <th>1</th>\n",
       "      <td>6</td>\n",
       "      <td>2</td>\n",
       "      <td>9</td>\n",
       "      <td>7</td>\n",
       "      <td>1.00</td>\n",
       "    </tr>\n",
       "    <tr>\n",
       "      <th>2</th>\n",
       "      <td>9</td>\n",
       "      <td>2</td>\n",
       "      <td>3</td>\n",
       "      <td>1</td>\n",
       "      <td>2.25</td>\n",
       "    </tr>\n",
       "    <tr>\n",
       "      <th>3</th>\n",
       "      <td>1</td>\n",
       "      <td>9</td>\n",
       "      <td>7</td>\n",
       "      <td>9</td>\n",
       "      <td>3.00</td>\n",
       "    </tr>\n",
       "    <tr>\n",
       "      <th>4</th>\n",
       "      <td>6</td>\n",
       "      <td>9</td>\n",
       "      <td>5</td>\n",
       "      <td>9</td>\n",
       "      <td>2.25</td>\n",
       "    </tr>\n",
       "    <tr>\n",
       "      <th>5</th>\n",
       "      <td>9</td>\n",
       "      <td>9</td>\n",
       "      <td>8</td>\n",
       "      <td>7</td>\n",
       "      <td>5.00</td>\n",
       "    </tr>\n",
       "  </tbody>\n",
       "</table>\n",
       "</div>"
      ],
      "text/plain": [
       "   A  B  C  D     F\n",
       "0  0  0  3  1  0.00\n",
       "1  6  2  9  7  1.00\n",
       "2  9  2  3  1  2.25\n",
       "3  1  9  7  9  3.00\n",
       "4  6  9  5  9  2.25\n",
       "5  9  9  8  7  5.00"
      ]
     },
     "execution_count": 467,
     "metadata": {},
     "output_type": "execute_result"
    }
   ],
   "source": [
    "df2"
   ]
  },
  {
   "cell_type": "markdown",
   "id": "181ae0e4",
   "metadata": {},
   "source": [
    "## Part 3: Matplotlib"
   ]
  },
  {
   "cell_type": "code",
   "execution_count": 468,
   "id": "367e76fe",
   "metadata": {
    "scrolled": false
   },
   "outputs": [
    {
     "data": {
      "text/plain": [
       "(array([ 17., 224., 182.,  81.,  29.,  25.,  15.,   7.,   5.,   7.,   6.,\n",
       "          3.,   5.,   0.,   1.,   0.,   0.,   0.,   0.,   0.,   1.,   0.,\n",
       "          0.,   1.,   2.,   0.,   0.,   0.,   0.,   0.,   0.,   1.,   0.,\n",
       "          0.,   0.,   0.,   0.,   0.,   0.,   1.,   0.,   0.,   0.,   0.,\n",
       "          0.,   0.,   0.,   0.,   0.,   1.]),\n",
       " array([  150.,  1767.,  3384.,  5001.,  6618.,  8235.,  9852., 11469.,\n",
       "        13086., 14703., 16320., 17937., 19554., 21171., 22788., 24405.,\n",
       "        26022., 27639., 29256., 30873., 32490., 34107., 35724., 37341.,\n",
       "        38958., 40575., 42192., 43809., 45426., 47043., 48660., 50277.,\n",
       "        51894., 53511., 55128., 56745., 58362., 59979., 61596., 63213.,\n",
       "        64830., 66447., 68064., 69681., 71298., 72915., 74532., 76149.,\n",
       "        77766., 79383., 81000.]),\n",
       " <BarContainer object of 50 artists>)"
      ]
     },
     "execution_count": 468,
     "metadata": {},
     "output_type": "execute_result"
    },
    {
     "data": {
      "image/png": "[encoded data removed]",
      "text/plain": [
       "<Figure size 640x480 with 1 Axes>"
      ]
     },
     "metadata": {},
     "output_type": "display_data"
    }
   ],
   "source": [
    "from matplotlib import pyplot as plt \n",
    "\n",
    "## part 3.1\n",
    "df = pd.read_csv('train.csv')\n",
    "plt.hist(df['ApplicantIncome'], bins = 50)"
   ]
  },
  {
   "cell_type": "code",
   "execution_count": 469,
   "id": "d8b02dfa",
   "metadata": {
    "scrolled": false
   },
   "outputs": [
    {
     "data": {
      "text/plain": [
       "Text(0.5, 1.0, 'ApplicantIncome vs Education')"
      ]
     },
     "execution_count": 469,
     "metadata": {},
     "output_type": "execute_result"
    },
    {
     "data": {
      "image/png": "[encoded data removed]",
      "text/plain": [
       "<Figure size 640x480 with 1 Axes>"
      ]
     },
     "metadata": {},
     "output_type": "display_data"
    }
   ],
   "source": [
    "ax = plt.boxplot([df_series_grad,df_series_not_grad])\n",
    "df_series_not_grad = df[df['Education']=='Not Graduate']['ApplicantIncome'].tolist()\n",
    "df_series_grad = df[df['Education']=='Graduate']['ApplicantIncome'].tolist()\n",
    "plt.title('ApplicantIncome vs Education')"
   ]
  },
  {
   "cell_type": "code",
   "execution_count": 475,
   "id": "9079fffe",
   "metadata": {},
   "outputs": [
    {
     "data": {
      "image/png": "[encoded data removed]",
      "text/plain": [
       "<Figure size 640x480 with 2 Axes>"
      ]
     },
     "metadata": {},
     "output_type": "display_data"
    }
   ],
   "source": [
    "## part 3.2\n",
    "fig, axs = plt.subplots(1,2)\n",
    "\n",
    "df['Loan_Status'].replace(['N', 'Y'],[0, 1], inplace=True)\n",
    "\n",
    "df1 = df.groupby('Credit_History').count()['Loan_ID']\n",
    "df2 = df.groupby('Credit_History').sum()['Loan_Status']\n",
    "df3 = df.groupby('Credit_History').count()['Loan_ID']\n",
    "\n",
    "\n",
    "axs[0].bar(['0', '1'],[df1[0],df1[1]], align='center')\n",
    "axs[1].bar(['0', '1'],[df2[0]/df3[0],df2[1]/df3[1]], align='center')\n",
    "\n",
    "\n",
    "plt.show()"
   ]
  },
  {
   "cell_type": "markdown",
   "id": "35915acf",
   "metadata": {},
   "source": [
    "## 4. Numpy & Scipy"
   ]
  },
  {
   "cell_type": "code",
   "execution_count": 476,
   "id": "390e6a8a",
   "metadata": {},
   "outputs": [],
   "source": [
    "import numpy as np"
   ]
  },
  {
   "cell_type": "code",
   "execution_count": 477,
   "id": "cd158b87",
   "metadata": {},
   "outputs": [],
   "source": [
    "# 4.1\n",
    "a = np.arange(6)"
   ]
  },
  {
   "cell_type": "code",
   "execution_count": 478,
   "id": "188f50b2",
   "metadata": {},
   "outputs": [],
   "source": [
    "a = a.reshape(3,2)"
   ]
  },
  {
   "cell_type": "code",
   "execution_count": 479,
   "id": "dea25995",
   "metadata": {},
   "outputs": [],
   "source": [
    "b = np.arange(9)\n",
    "b = b.reshape(3,3)"
   ]
  },
  {
   "cell_type": "code",
   "execution_count": 480,
   "id": "fddb7ea3",
   "metadata": {},
   "outputs": [],
   "source": [
    "c = np.hstack((a,b))"
   ]
  },
  {
   "cell_type": "code",
   "execution_count": 481,
   "id": "104d813a",
   "metadata": {},
   "outputs": [
    {
     "name": "stdout",
     "output_type": "stream",
     "text": [
      "index of max value of the array: 14\n",
      "(3, 2)\n",
      "(3, 3)\n",
      "(3, 5)\n",
      "(15,)\n"
     ]
    }
   ],
   "source": [
    "d = np.ravel(c)\n",
    "print('index of max value of the array:', np.argmax(d))\n",
    "print(a.shape)\n",
    "print(b.shape)\n",
    "print(c.shape)\n",
    "print(d.shape)"
   ]
  },
  {
   "cell_type": "code",
   "execution_count": 482,
   "id": "54b64b1f",
   "metadata": {},
   "outputs": [
    {
     "name": "stdout",
     "output_type": "stream",
     "text": [
      "[[3 1 4]\n",
      " [1 5 9]\n",
      " [2 6 5]]\n",
      "[[ 2  4 -1]]\n"
     ]
    }
   ],
   "source": [
    "# 4.2\n",
    "A = np.mat([[3,1,4],[1,5,9],[2,6,5]])\n",
    "b = np.mat([2,4,-1])\n",
    "print(A)\n",
    "print(b)"
   ]
  },
  {
   "cell_type": "code",
   "execution_count": 483,
   "id": "e88821ad",
   "metadata": {},
   "outputs": [
    {
     "name": "stdout",
     "output_type": "stream",
     "text": [
      "A.T =\n",
      "[[3 1 2]\n",
      " [1 5 6]\n",
      " [4 9 5]]\n",
      "\n",
      "A-1 =\n",
      "[[ 0.32222222 -0.21111111  0.12222222]\n",
      " [-0.14444444 -0.07777778  0.25555556]\n",
      " [ 0.04444444  0.17777778 -0.15555556]]\n",
      "\n",
      "|A| = \n",
      "if we want frobenius norm:\n",
      "14.071247279470288\n",
      "if we want largest singular value:\n",
      "13.582357990940979\n"
     ]
    }
   ],
   "source": [
    "print('A.T =')\n",
    "print(np.transpose(A))\n",
    "print('\\nA-1 =')\n",
    "print(np.linalg.inv(A))\n",
    "print('\\n|A| = ')\n",
    "print('if we want frobenius norm:')\n",
    "print(np.linalg.norm(A))\n",
    "print('if we want largest singular value:')\n",
    "print(np.linalg.norm(A,ord=2))"
   ]
  },
  {
   "cell_type": "code",
   "execution_count": 484,
   "id": "874ed869",
   "metadata": {},
   "outputs": [
    {
     "name": "stdout",
     "output_type": "stream",
     "text": [
      "eigenvalue decomposition of A:\n",
      "(array([13.08576474,  2.58000566, -2.66577041]), matrix([[-0.31542644, -0.95117074, -0.32372474],\n",
      "        [-0.72306109,  0.30781323, -0.70222933],\n",
      "        [-0.61456393,  0.02291827,  0.63409484]]))\n",
      "\n",
      " SVD eigenvalue decomposition of A:\n",
      "(matrix([[-0.32463251,  0.79898436,  0.50619929],\n",
      "        [-0.75307473,  0.1054674 , -0.64942672],\n",
      "        [-0.57226932, -0.59203093,  0.56745679]]), array([13.58235799,  2.84547726,  2.32869289]), matrix([[-0.21141476, -0.55392606, -0.80527617],\n",
      "        [ 0.46331722, -0.78224635,  0.41644663],\n",
      "        [ 0.86060499,  0.28505536, -0.42202191]]))\n",
      "\n",
      " QR eigenvalue decomposition of A:\n",
      "(matrix([[-0.80178373,  0.56829114, -0.18490007],\n",
      "        [-0.26726124, -0.61770776, -0.73960026],\n",
      "        [-0.53452248, -0.54358283,  0.64715023]]), matrix([[-3.74165739, -5.34522484, -8.2850985 ],\n",
      "        [ 0.        , -5.78174467, -6.00411946],\n",
      "        [ 0.        ,  0.        , -4.16025147]]))\n",
      "\n",
      " Solve Ax = b.T:\n",
      "[[-0.32222222]\n",
      " [-0.85555556]\n",
      " [ 0.95555556]]\n"
     ]
    }
   ],
   "source": [
    "print('eigenvalue decomposition of A:')\n",
    "print(np.linalg.eig(A))\n",
    "print('\\n SVD eigenvalue decomposition of A:')\n",
    "print(np.linalg.svd(A))\n",
    "print('\\n QR eigenvalue decomposition of A:')\n",
    "print(np.linalg.qr(A))\n",
    "print('\\n Solve Ax = b.T:')\n",
    "print(np.linalg.solve(A,np.transpose(b)))"
   ]
  },
  {
   "cell_type": "code",
   "execution_count": 485,
   "id": "cb7684b7",
   "metadata": {},
   "outputs": [],
   "source": [
    "#4.3\n",
    "t = np.random.uniform(-10*np.pi,10*np.pi,1000)"
   ]
  },
  {
   "cell_type": "code",
   "execution_count": 486,
   "id": "ab5eac2c",
   "metadata": {},
   "outputs": [],
   "source": [
    "t_sorted = np.sort(t)\n",
    "t_sinc = np.sinc(t_sorted)"
   ]
  },
  {
   "cell_type": "code",
   "execution_count": 487,
   "id": "f18e2f73",
   "metadata": {},
   "outputs": [],
   "source": [
    "t_fft = np.fft.fft(t_sinc)"
   ]
  },
  {
   "cell_type": "code",
   "execution_count": 488,
   "id": "08769dea",
   "metadata": {},
   "outputs": [
    {
     "data": {
      "image/png": "[encoded data removed]",
      "text/plain": [
       "<Figure size 640x480 with 2 Axes>"
      ]
     },
     "metadata": {},
     "output_type": "display_data"
    }
   ],
   "source": [
    "from matplotlib.pyplot import figure\n",
    "\n",
    "fig, axs = plt.subplots(2,1)\n",
    "\n",
    "axs[0].plot(t_sinc)\n",
    "axs[1].plot(np.abs(t_fft))\n",
    "\n",
    "axs[0].title.set_text('Sinc Signal in time domain')\n",
    "axs[1].title.set_text('Sinc Signal in frequency domain')\n",
    "fig.tight_layout()\n",
    "\n",
    "plt.show()"
   ]
  },
  {
   "cell_type": "code",
   "execution_count": null,
   "id": "2143070c",
   "metadata": {},
   "outputs": [],
   "source": [
    "## FINISHED!"
   ]
  }
 ],
 "metadata": {
  "kernelspec": {
   "display_name": "Python 3 (ipykernel)",
   "language": "python",
   "name": "python3"
  },
  "language_info": {
   "codemirror_mode": {
    "name": "ipython",
    "version": 3
   },
   "file_extension": ".py",
   "mimetype": "text/x-python",
   "name": "python",
   "nbconvert_exporter": "python",
   "pygments_lexer": "ipython3",
   "version": "3.7.9"
  }
 },
 "nbformat": 4,
 "nbformat_minor": 5
}
