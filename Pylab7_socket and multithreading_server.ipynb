{
 "cells": [
  {
   "cell_type": "markdown",
   "id": "cd296cb9",
   "metadata": {},
   "source": [
    "# Introduction to Network programming"
   ]
  },
  {
   "cell_type": "markdown",
   "id": "05e828c0",
   "metadata": {},
   "source": [
    "## Part A"
   ]
  },
  {
   "cell_type": "markdown",
   "id": "8087d9e5",
   "metadata": {},
   "source": [
    "### server"
   ]
  },
  {
   "cell_type": "code",
   "execution_count": 18,
   "id": "cd7a08e9",
   "metadata": {},
   "outputs": [
    {
     "name": "stdout",
     "output_type": "stream",
     "text": [
      "Socket successfully created on server side\n",
      "server socket is listening\n",
      "Got connection from ('127.0.0.1', 11959)\n"
     ]
    }
   ],
   "source": [
    "import socket            \n",
    "\n",
    "s = socket.socket()        \n",
    "print (\"Socket successfully created on server side\")\n",
    "port = 12348     \n",
    "s.bind(('', port))        \n",
    "s.listen(5)    \n",
    "print (\"server socket is listening\")           \n",
    " \n",
    "while True:\n",
    "    c, addr = s.accept()    \n",
    "    print ('Got connection from', addr )\n",
    "    c.send('Welcome and Thank you for connecting'.encode())\n",
    "    c.close()\n",
    "    break"
   ]
  },
  {
   "cell_type": "markdown",
   "id": "3221a1d2",
   "metadata": {},
   "source": [
    "## Part B"
   ]
  },
  {
   "cell_type": "markdown",
   "id": "05d20adc",
   "metadata": {},
   "source": [
    "### server"
   ]
  },
  {
   "cell_type": "code",
   "execution_count": null,
   "id": "d4c7643d",
   "metadata": {},
   "outputs": [
    {
     "name": "stdout",
     "output_type": "stream",
     "text": [
      "Socket successfully created on server side\n",
      "server socket is listening\n",
      "Got connection from ('127.0.0.1', 12081)\n",
      "file transfered\n",
      "('127.0.0.1', 12081) disconnected.\n"
     ]
    }
   ],
   "source": [
    "import socket\n",
    " \n",
    "SIZE = 1024\n",
    "FORMAT = \"utf-8\"\n",
    "s = socket.socket()        \n",
    "print (\"Socket successfully created on server side\")\n",
    "port = 12348     \n",
    "s.bind(('', port))        \n",
    "s.listen(5)    \n",
    "print (\"server socket is listening\")           \n",
    " \n",
    "while True:\n",
    "    c, addr = s.accept()    \n",
    "    print ('Got connection from', addr )\n",
    "    file = open(\"data.txt\", \"r\")\n",
    "    data = file.read()\n",
    "    c.send(data.encode(FORMAT))\n",
    "    print(\"file transfered\")\n",
    "    file.close()\n",
    "    c.close()\n",
    "    print(f\"{addr} disconnected.\")\n",
    " "
   ]
  },
  {
   "cell_type": "markdown",
   "id": "e5194d74",
   "metadata": {},
   "source": [
    "## Part C"
   ]
  },
  {
   "cell_type": "markdown",
   "id": "4a81ec91",
   "metadata": {},
   "source": [
    "### server"
   ]
  },
  {
   "cell_type": "code",
   "execution_count": null,
   "id": "b8077583",
   "metadata": {},
   "outputs": [
    {
     "name": "stdout",
     "output_type": "stream",
     "text": [
      "Socket successfully created on server side\n",
      "server socket is listening\n",
      "Got connection from ('127.0.0.1', 10224) \n",
      "\n",
      "Got connection from ('127.0.0.1', 10225) \n",
      "\n",
      "Got connection from ('127.0.0.1', 10226) \n",
      "\n",
      "Got connection from ('127.0.0.1', 10227) \n",
      "\n",
      "Got connection from ('127.0.0.1', 10228) \n",
      "\n",
      "file data3.txt can't be transfered to ('127.0.0.1', 10227), it doesn't exists.\n",
      "file data4.txt can't be transfered to ('127.0.0.1', 10228), it doesn't exists.\n",
      "file data1.txt transfered to ('127.0.0.1', 10225).\n",
      "file data2.txt transfered to ('127.0.0.1', 10224).\n",
      "file data1.txt transfered to ('127.0.0.1', 10226).\n"
     ]
    }
   ],
   "source": [
    "import socket\n",
    "import _thread \n",
    "from _thread import start_new_thread \n",
    "import os.path\n",
    "\n",
    "\n",
    "def serverthread(c, addr):\n",
    "    print ('Got connection from', addr,\"\\n\")\n",
    "    filename = c.recv(1024).decode()\n",
    "    if os.path.exists(filename):\n",
    "        file = open(filename, \"r\")\n",
    "        data = file.read()\n",
    "        c.send('file exists.'.encode())\n",
    "        c.send(data.encode(FORMAT))\n",
    "        print(f\"file {filename} transfered to {addr}.\")\n",
    "        file.close()\n",
    "        \n",
    "    else:\n",
    "        c.send('file doesnt exist.'.encode())\n",
    "        print(f\"file {filename} can't be transfered to {addr}, it doesn't exists.\")\n",
    "    c.close()\n",
    "    \n",
    "\n",
    "SIZE = 1024\n",
    "FORMAT = \"utf-8\"\n",
    "s = socket.socket()        \n",
    "print (\"Socket successfully created on server side\")\n",
    "port = 12348     \n",
    "s.bind(('', port))        \n",
    "s.listen(5)    \n",
    "print (\"server socket is listening\")           \n",
    " \n",
    "while True:\n",
    "    c, addr = s.accept() \n",
    "    start_new_thread(serverthread, (c,addr,))\n",
    "    \n",
    "s.close()\n",
    " \n",
    "    "
   ]
  },
  {
   "cell_type": "markdown",
   "id": "e06aa462",
   "metadata": {},
   "source": [
    "## Bonus part"
   ]
  },
  {
   "cell_type": "markdown",
   "id": "bac9430e",
   "metadata": {},
   "source": [
    "### server"
   ]
  },
  {
   "cell_type": "code",
   "execution_count": null,
   "id": "f00f2a4c",
   "metadata": {},
   "outputs": [
    {
     "name": "stdout",
     "output_type": "stream",
     "text": [
      "Socket successfully created on server side\n",
      "server socket is listening\n",
      "Got connection from ('127.0.0.1', 10592) \n",
      "\n",
      "Got connection from ('127.0.0.1', 10593) \n",
      "\n",
      "Got connection from ('127.0.0.1', 10594) \n",
      "\n",
      "file data2.txt transfered to ('127.0.0.1', 10593).\n",
      "Got connection from ('127.0.0.1', 10595) \n",
      "\n",
      "file data1.txt transfered to ('127.0.0.1', 10592).\n",
      "Got connection from ('127.0.0.1', 10596) \n",
      "\n",
      "file data2.txt transfered to ('127.0.0.1', 10594).\n",
      "file data1.txt transfered to ('127.0.0.1', 10595).\n",
      "file data4.txt can't be transfered to ('127.0.0.1', 10596), it doesn't exists.\n"
     ]
    }
   ],
   "source": [
    "import socket, threading\n",
    "import os.path\n",
    "\n",
    "class ServerThread(threading.Thread):\n",
    "    def __init__(self,c, addr):\n",
    "        threading.Thread.__init__(self)\n",
    "        self.c = c\n",
    "        self.addr = addr\n",
    "        \n",
    "    def run(self):\n",
    "        print ('Got connection from', self.addr,\"\\n\")\n",
    "        filename = self.c.recv(1024).decode()\n",
    "        if os.path.exists(filename):\n",
    "            file = open(filename, \"r\")\n",
    "            data = file.read()\n",
    "            self.c.send('file exists.'.encode())\n",
    "            self.c.send(data.encode(FORMAT))\n",
    "            print(f\"file {filename} transfered to {self.addr}.\")\n",
    "            file.close()\n",
    "        else:\n",
    "            self.c.send('file doesnt exist.'.encode())\n",
    "            print(f\"file {filename} can't be transfered to {self.addr}, it doesn't exists.\")\n",
    "            \n",
    "        self.c.close()\n",
    "    \n",
    "SIZE = 1024\n",
    "FORMAT = \"utf-8\"\n",
    "s = socket.socket()        \n",
    "print (\"Socket successfully created on server side\")\n",
    "port = 12348     \n",
    "s.bind(('', port))        \n",
    "s.listen(5)    \n",
    "print (\"server socket is listening\")           \n",
    " \n",
    "while True:\n",
    "    c, addr = s.accept() \n",
    "    newthread = ServerThread(c, addr)\n",
    "    newthread.start()\n",
    "    \n",
    "s.close()\n",
    " \n",
    "    "
   ]
  },
  {
   "cell_type": "code",
   "execution_count": null,
   "id": "1d1bc170",
   "metadata": {},
   "outputs": [],
   "source": []
  }
 ],
 "metadata": {
  "kernelspec": {
   "display_name": "Python 3 (ipykernel)",
   "language": "python",
   "name": "python3"
  },
  "language_info": {
   "codemirror_mode": {
    "name": "ipython",
    "version": 3
   },
   "file_extension": ".py",
   "mimetype": "text/x-python",
   "name": "python",
   "nbconvert_exporter": "python",
   "pygments_lexer": "ipython3",
   "version": "3.9.13"
  }
 },
 "nbformat": 4,
 "nbformat_minor": 5
}
